{
 "cells": [
  {
   "cell_type": "code",
   "execution_count": 3,
   "metadata": {},
   "outputs": [
    {
     "name": "stderr",
     "output_type": "stream",
     "text": [
      "<>:3: SyntaxWarning: invalid escape sequence '\\d'\n",
      "<>:3: SyntaxWarning: invalid escape sequence '\\d'\n",
      "C:\\Users\\ASUS_\\AppData\\Local\\Temp\\ipykernel_17200\\385414799.py:3: SyntaxWarning: invalid escape sequence '\\d'\n",
      "  dataset = pd.read_csv(\"C:\\dataset\\Bank_Personal_Loan_Modelling.csv\")\n"
     ]
    },
    {
     "name": "stdout",
     "output_type": "stream",
     "text": [
      "        ID  Age  Experience  Income  ZIP Code  Family  CCAvg  Education  \\\n",
      "0        1   25           1      49     91107       4    1.6          1   \n",
      "1        2   45          19      34     90089       3    1.5          1   \n",
      "2        3   39          15      11     94720       1    1.0          1   \n",
      "3        4   35           9     100     94112       1    2.7          2   \n",
      "4        5   35           8      45     91330       4    1.0          2   \n",
      "...    ...  ...         ...     ...       ...     ...    ...        ...   \n",
      "4995  4996   29           3      40     92697       1    1.9          3   \n",
      "4996  4997   30           4      15     92037       4    0.4          1   \n",
      "4997  4998   63          39      24     93023       2    0.3          3   \n",
      "4998  4999   65          40      49     90034       3    0.5          2   \n",
      "4999  5000   28           4      83     92612       3    0.8          1   \n",
      "\n",
      "      Mortgage  Personal Loan  Securities Account  CD Account  Online  \\\n",
      "0            0              0                   1           0       0   \n",
      "1            0              0                   1           0       0   \n",
      "2            0              0                   0           0       0   \n",
      "3            0              0                   0           0       0   \n",
      "4            0              0                   0           0       0   \n",
      "...        ...            ...                 ...         ...     ...   \n",
      "4995         0              0                   0           0       1   \n",
      "4996        85              0                   0           0       1   \n",
      "4997         0              0                   0           0       0   \n",
      "4998         0              0                   0           0       1   \n",
      "4999         0              0                   0           0       1   \n",
      "\n",
      "      CreditCard  \n",
      "0              0  \n",
      "1              0  \n",
      "2              0  \n",
      "3              0  \n",
      "4              1  \n",
      "...          ...  \n",
      "4995           0  \n",
      "4996           0  \n",
      "4997           0  \n",
      "4998           0  \n",
      "4999           1  \n",
      "\n",
      "[5000 rows x 14 columns]\n"
     ]
    }
   ],
   "source": [
    "# Menampilkan dataset menggunakan library pandas\n",
    "import pandas as pd\n",
    "dataset = pd.read_csv(\"C:\\dataset\\Bank_Personal_Loan_Modelling.csv\")\n",
    "print(dataset)"
   ]
  },
  {
   "cell_type": "markdown",
   "metadata": {},
   "source": [
    "Syntax di atas berfungsi untuk membaca file CSV dengan menggunakan fungsi 'read_csv()' dari pandas. File CSV yang dibaca adalah \"Bank_Personal_Loan_Modelling.csv\" yang terletak di direktori 'C:\\dataset'. Fungsi 'read_csv()' mengonversi isi file CSV menjadi sebuah DataFrame, yaitu struktur data tabular dua dimensi yang disediakan oleh pandas."
   ]
  },
  {
   "cell_type": "code",
   "execution_count": 4,
   "metadata": {},
   "outputs": [
    {
     "data": {
      "text/plain": [
       "Index(['ID', 'Age', 'Experience', 'Income', 'ZIP Code', 'Family', 'CCAvg',\n",
       "       'Education', 'Mortgage', 'Personal Loan', 'Securities Account',\n",
       "       'CD Account', 'Online', 'CreditCard'],\n",
       "      dtype='object')"
      ]
     },
     "execution_count": 4,
     "metadata": {},
     "output_type": "execute_result"
    }
   ],
   "source": [
    "# Menampilkan kolom-kolom pada dataset\n",
    "dataset.columns"
   ]
  },
  {
   "cell_type": "code",
   "execution_count": 5,
   "metadata": {},
   "outputs": [
    {
     "name": "stdout",
     "output_type": "stream",
     "text": [
      "        ID  Age  Experience  Income  ZIP Code  Family  CCAvg  Education  \\\n",
      "0        1   25           1      49     91107       4    1.6          1   \n",
      "1        2   45          19      34     90089       3    1.5          1   \n",
      "2        3   39          15      11     94720       1    1.0          1   \n",
      "3        4   35           9     100     94112       1    2.7          2   \n",
      "4        5   35           8      45     91330       4    1.0          2   \n",
      "...    ...  ...         ...     ...       ...     ...    ...        ...   \n",
      "4995  4996   29           3      40     92697       1    1.9          3   \n",
      "4996  4997   30           4      15     92037       4    0.4          1   \n",
      "4997  4998   63          39      24     93023       2    0.3          3   \n",
      "4998  4999   65          40      49     90034       3    0.5          2   \n",
      "4999  5000   28           4      83     92612       3    0.8          1   \n",
      "\n",
      "      Mortgage  Personal Loan  Securities Account  CD Account  Online  \n",
      "0            0              0                   1           0       0  \n",
      "1            0              0                   1           0       0  \n",
      "2            0              0                   0           0       0  \n",
      "3            0              0                   0           0       0  \n",
      "4            0              0                   0           0       0  \n",
      "...        ...            ...                 ...         ...     ...  \n",
      "4995         0              0                   0           0       1  \n",
      "4996        85              0                   0           0       1  \n",
      "4997         0              0                   0           0       0  \n",
      "4998         0              0                   0           0       1  \n",
      "4999         0              0                   0           0       1  \n",
      "\n",
      "[5000 rows x 13 columns]\n"
     ]
    }
   ],
   "source": [
    "x = dataset[['ID', 'Age', 'Experience', 'Income', 'ZIP Code', 'Family', 'CCAvg','Education', 'Mortgage', 'Personal Loan', 'Securities Account','CD Account', 'Online']]\n",
    "print(x)"
   ]
  },
  {
   "cell_type": "markdown",
   "metadata": {},
   "source": [
    "Syntax di atas digunakan untuk memilih kolom-kolom dari dataset yang telah di baca sebelumnya dan akan di simpan dalam variabel 'x' "
   ]
  },
  {
   "cell_type": "code",
   "execution_count": 6,
   "metadata": {},
   "outputs": [
    {
     "name": "stdout",
     "output_type": "stream",
     "text": [
      "0       0\n",
      "1       0\n",
      "2       0\n",
      "3       0\n",
      "4       1\n",
      "       ..\n",
      "4995    0\n",
      "4996    0\n",
      "4997    0\n",
      "4998    0\n",
      "4999    1\n",
      "Name: CreditCard, Length: 5000, dtype: int64\n"
     ]
    }
   ],
   "source": [
    "y = dataset['CreditCard']\n",
    "print(y)"
   ]
  },
  {
   "cell_type": "markdown",
   "metadata": {},
   "source": [
    "Syntax di atas digunakan untuk memilih kolom 'CreditCard' dan disimpan dalam variabel 'y'"
   ]
  },
  {
   "cell_type": "code",
   "execution_count": 7,
   "metadata": {},
   "outputs": [],
   "source": [
    "import sklearn \n",
    "from sklearn.model_selection import train_test_split\n",
    "\n",
    "x_train, x_test, y_train, y_test = train_test_split(x, y, test_size=0.2, random_state=1)"
   ]
  },
  {
   "cell_type": "markdown",
   "metadata": {},
   "source": [
    "Syntax diatas terdapat fungsi 'train_test_split' dari submodul 'model_selection' di dalam scikit-learn atau sklearn. Fungsi ini digunakan untuk membagi dataset menjadi subset untuk pelatihan dan pengujian. Dimana 'x_train' (fitur untuk pelatihan), 'x_test' (fitur untuk pengujian), 'y_train' (target untuk pelatihan), dan 'y_test' (target untuk pengujian). 'test_size=2' dimana 0.2 atau 20% yaitu presentase dataset yang akan digunakan untuk pengujian. 'random_state=1' digunakan untuk mengontrol randomization saat membagi dataset. Memberikan nilai 1 ke 'random_state' akan memastikan bahwa pembagian dataset menjadi x_train, x_test, y_train, dan y_test akan konsisten setiap kali kode dijalankan."
   ]
  },
  {
   "cell_type": "code",
   "execution_count": 8,
   "metadata": {},
   "outputs": [
    {
     "data": {
      "text/plain": [
       "1000"
      ]
     },
     "execution_count": 8,
     "metadata": {},
     "output_type": "execute_result"
    }
   ],
   "source": [
    "len(x_test)"
   ]
  },
  {
   "cell_type": "markdown",
   "metadata": {},
   "source": [
    "Syntax diatas digunakan untuk mengetahui panjang dari 'x_test' atau fitur pengujian"
   ]
  },
  {
   "cell_type": "code",
   "execution_count": 9,
   "metadata": {},
   "outputs": [
    {
     "data": {
      "text/plain": [
       "4000"
      ]
     },
     "execution_count": 9,
     "metadata": {},
     "output_type": "execute_result"
    }
   ],
   "source": [
    "len(y_train)"
   ]
  },
  {
   "cell_type": "markdown",
   "metadata": {},
   "source": [
    "Syntax diatas digunakan untuk mengetahui panjang dari 'y_train' atau target pengujian"
   ]
  },
  {
   "cell_type": "code",
   "execution_count": 10,
   "metadata": {},
   "outputs": [],
   "source": [
    "# pemodelan\n",
    "from sklearn import tree\n",
    "\n",
    "clf = tree.DecisionTreeClassifier()"
   ]
  },
  {
   "cell_type": "markdown",
   "metadata": {},
   "source": [
    "Syntax diatas atas adalah syntax yang di gunakan untuk pemodelan dimana 'tree.DecisionTreeClassifier()' adalah constructor yang digunakan untuk membuat instance dari model tersebut dan menyimpannya dalam variabel 'clf'. Instance ini akan digunakan untuk melatih model pada data yang telah dipisahkan sebelumnya menggunakan 'train_test_split'."
   ]
  },
  {
   "cell_type": "code",
   "execution_count": 11,
   "metadata": {},
   "outputs": [],
   "source": [
    "# Tahap cross validation\n",
    "from sklearn.model_selection import cross_val_score\n",
    "\n",
    "scores = cross_val_score(clf, x, y, cv=10)"
   ]
  },
  {
   "cell_type": "markdown",
   "metadata": {},
   "source": [
    "Syntax diatas adalah tahap untuk melakukan 'cross validation' atau teknik evaluasi untuk pemodelan yang telah kita buat. 'cv=10' digunakan untuk menampilkan jumlah lipatan (folds) pada cross-validation, disini kita menggunakan 10-fold cross-validation.jadi, ada 10 nilai akurasi."
   ]
  },
  {
   "cell_type": "code",
   "execution_count": 12,
   "metadata": {},
   "outputs": [
    {
     "data": {
      "text/plain": [
       "array([0.674, 0.612, 0.606, 0.664, 0.52 , 0.61 , 0.608, 0.598, 0.628,\n",
       "       0.286])"
      ]
     },
     "execution_count": 12,
     "metadata": {},
     "output_type": "execute_result"
    }
   ],
   "source": [
    "scores"
   ]
  },
  {
   "cell_type": "markdown",
   "metadata": {},
   "source": [
    "fungsi ini di gunakan untuk menampilkan 10 nilai akurasi yang tersimpan dalam variabel scores dari syntax sebelumnya"
   ]
  }
 ],
 "metadata": {
  "kernelspec": {
   "display_name": "Python 3",
   "language": "python",
   "name": "python3"
  },
  "language_info": {
   "codemirror_mode": {
    "name": "ipython",
    "version": 3
   },
   "file_extension": ".py",
   "mimetype": "text/x-python",
   "name": "python",
   "nbconvert_exporter": "python",
   "pygments_lexer": "ipython3",
   "version": "3.12.2"
  }
 },
 "nbformat": 4,
 "nbformat_minor": 2
}
